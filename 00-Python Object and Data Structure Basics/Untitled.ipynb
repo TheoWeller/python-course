{
 "cells": [
  {
   "cell_type": "code",
   "execution_count": 1,
   "id": "4759c866",
   "metadata": {},
   "outputs": [
    {
     "data": {
      "text/plain": [
       "6.0"
      ]
     },
     "execution_count": 1,
     "metadata": {},
     "output_type": "execute_result"
    }
   ],
   "source": [
    "(2 + 10) / 2"
   ]
  },
  {
   "cell_type": "markdown",
   "id": "0078227e",
   "metadata": {},
   "source": [
    "Variables"
   ]
  },
  {
   "cell_type": "code",
   "execution_count": 2,
   "id": "f85b7940",
   "metadata": {},
   "outputs": [],
   "source": [
    "a = \"test\""
   ]
  },
  {
   "cell_type": "code",
   "execution_count": 3,
   "id": "53e8e5f3",
   "metadata": {},
   "outputs": [
    {
     "data": {
      "text/plain": [
       "'test'"
      ]
     },
     "execution_count": 3,
     "metadata": {},
     "output_type": "execute_result"
    }
   ],
   "source": [
    "a"
   ]
  },
  {
   "cell_type": "code",
   "execution_count": 4,
   "id": "3328c717",
   "metadata": {},
   "outputs": [],
   "source": [
    "hello = \"\""
   ]
  },
  {
   "cell_type": "code",
   "execution_count": 5,
   "id": "f84978a5",
   "metadata": {},
   "outputs": [
    {
     "data": {
      "text/plain": [
       "''"
      ]
     },
     "execution_count": 5,
     "metadata": {},
     "output_type": "execute_result"
    }
   ],
   "source": [
    "hello"
   ]
  },
  {
   "cell_type": "code",
   "execution_count": 6,
   "id": "360f927e",
   "metadata": {},
   "outputs": [
    {
     "ename": "NameError",
     "evalue": "name 'butt' is not defined",
     "output_type": "error",
     "traceback": [
      "\u001b[0;31m---------------------------------------------------------------------------\u001b[0m",
      "\u001b[0;31mNameError\u001b[0m                                 Traceback (most recent call last)",
      "\u001b[0;32m/var/folders/pr/6zd47kr13sl6n6s6qxky0w9h0000gn/T/ipykernel_36075/2225427338.py\u001b[0m in \u001b[0;36m<module>\u001b[0;34m\u001b[0m\n\u001b[0;32m----> 1\u001b[0;31m \u001b[0mhello\u001b[0m \u001b[0;34m=\u001b[0m \u001b[0;34m{\u001b[0m\u001b[0mbutt\u001b[0m\u001b[0;34m:\u001b[0m \u001b[0;34m\"head\"\u001b[0m\u001b[0;34m}\u001b[0m\u001b[0;34m\u001b[0m\u001b[0;34m\u001b[0m\u001b[0m\n\u001b[0m",
      "\u001b[0;31mNameError\u001b[0m: name 'butt' is not defined"
     ]
    }
   ],
   "source": [
    "hello = {butt: \"head\"}"
   ]
  },
  {
   "cell_type": "code",
   "execution_count": 7,
   "id": "9002b6c3",
   "metadata": {},
   "outputs": [],
   "source": [
    "hello = {\"butt\": \"head\"}"
   ]
  },
  {
   "cell_type": "code",
   "execution_count": 8,
   "id": "a4a50c1c",
   "metadata": {},
   "outputs": [
    {
     "data": {
      "text/plain": [
       "{'butt': 'head'}"
      ]
     },
     "execution_count": 8,
     "metadata": {},
     "output_type": "execute_result"
    }
   ],
   "source": [
    "hello\n"
   ]
  },
  {
   "cell_type": "code",
   "execution_count": 9,
   "id": "6de2cd00",
   "metadata": {},
   "outputs": [
    {
     "data": {
      "text/plain": [
       "dict"
      ]
     },
     "execution_count": 9,
     "metadata": {},
     "output_type": "execute_result"
    }
   ],
   "source": [
    "type(hello)"
   ]
  },
  {
   "cell_type": "code",
   "execution_count": 10,
   "id": "82514391",
   "metadata": {},
   "outputs": [],
   "source": [
    "my_income = 90000\n"
   ]
  },
  {
   "cell_type": "code",
   "execution_count": 11,
   "id": "6201755b",
   "metadata": {},
   "outputs": [],
   "source": [
    "my_tax_rate = .26\n"
   ]
  },
  {
   "cell_type": "code",
   "execution_count": 12,
   "id": "cb17653f",
   "metadata": {},
   "outputs": [],
   "source": [
    "my_tax = my_income * my_tax_rate\n"
   ]
  },
  {
   "cell_type": "code",
   "execution_count": 13,
   "id": "1eb89ecb",
   "metadata": {},
   "outputs": [
    {
     "data": {
      "text/plain": [
       "23400.0"
      ]
     },
     "execution_count": 13,
     "metadata": {},
     "output_type": "execute_result"
    }
   ],
   "source": [
    "my_tax"
   ]
  },
  {
   "cell_type": "code",
   "execution_count": 14,
   "id": "fc7ff76c",
   "metadata": {},
   "outputs": [
    {
     "ename": "AttributeError",
     "evalue": "'dict' object has no attribute 'butt'",
     "output_type": "error",
     "traceback": [
      "\u001b[0;31m---------------------------------------------------------------------------\u001b[0m",
      "\u001b[0;31mAttributeError\u001b[0m                            Traceback (most recent call last)",
      "\u001b[0;32m/var/folders/pr/6zd47kr13sl6n6s6qxky0w9h0000gn/T/ipykernel_36075/2908302212.py\u001b[0m in \u001b[0;36m<module>\u001b[0;34m\u001b[0m\n\u001b[0;32m----> 1\u001b[0;31m \u001b[0mhello\u001b[0m\u001b[0;34m.\u001b[0m\u001b[0mbutt\u001b[0m\u001b[0;34m\u001b[0m\u001b[0;34m\u001b[0m\u001b[0m\n\u001b[0m",
      "\u001b[0;31mAttributeError\u001b[0m: 'dict' object has no attribute 'butt'"
     ]
    }
   ],
   "source": [
    "hello.butt"
   ]
  },
  {
   "cell_type": "code",
   "execution_count": 17,
   "id": "f5913ab8",
   "metadata": {},
   "outputs": [
    {
     "data": {
      "text/plain": [
       "'h'"
      ]
     },
     "execution_count": 17,
     "metadata": {},
     "output_type": "execute_result"
    }
   ],
   "source": [
    "hello[\"butt\"][-4]"
   ]
  },
  {
   "cell_type": "code",
   "execution_count": 18,
   "id": "548d82d6",
   "metadata": {},
   "outputs": [
    {
     "data": {
      "text/plain": [
       "12"
      ]
     },
     "execution_count": 18,
     "metadata": {},
     "output_type": "execute_result"
    }
   ],
   "source": [
    "len(\"hey hi hello\")"
   ]
  },
  {
   "cell_type": "code",
   "execution_count": 19,
   "id": "3fd5d65c",
   "metadata": {},
   "outputs": [],
   "source": [
    "mystring = \"hello world\""
   ]
  },
  {
   "cell_type": "code",
   "execution_count": 26,
   "id": "59a16cc3",
   "metadata": {},
   "outputs": [
    {
     "data": {
      "text/plain": [
       "'hlowrd'"
      ]
     },
     "execution_count": 26,
     "metadata": {},
     "output_type": "execute_result"
    }
   ],
   "source": [
    "mystring[::2]"
   ]
  },
  {
   "cell_type": "raw",
   "id": "d71de637",
   "metadata": {},
   "source": [
    "set(mystring)"
   ]
  },
  {
   "cell_type": "code",
   "execution_count": 27,
   "id": "aebfdabf",
   "metadata": {},
   "outputs": [
    {
     "data": {
      "text/plain": [
       "'hello world'"
      ]
     },
     "execution_count": 27,
     "metadata": {},
     "output_type": "execute_result"
    }
   ],
   "source": [
    "mystring"
   ]
  },
  {
   "cell_type": "code",
   "execution_count": 30,
   "id": "74d24276",
   "metadata": {},
   "outputs": [],
   "source": [
    "a = set(mystring)"
   ]
  },
  {
   "cell_type": "code",
   "execution_count": 31,
   "id": "fba86392",
   "metadata": {},
   "outputs": [
    {
     "data": {
      "text/plain": [
       "{' ', 'd', 'e', 'h', 'l', 'o', 'r', 'w'}"
      ]
     },
     "execution_count": 31,
     "metadata": {},
     "output_type": "execute_result"
    }
   ],
   "source": [
    "a"
   ]
  },
  {
   "cell_type": "code",
   "execution_count": 33,
   "id": "c8ff1bfa",
   "metadata": {},
   "outputs": [
    {
     "name": "stdout",
     "output_type": "stream",
     "text": [
      "Writing myfile.txt\n"
     ]
    }
   ],
   "source": [
    "%%writefile myfile.txt\n",
    "Hello this is a text file"
   ]
  },
  {
   "cell_type": "code",
   "execution_count": 36,
   "id": "c362de63",
   "metadata": {},
   "outputs": [
    {
     "ename": "NameError",
     "evalue": "name 'pwd' is not defined",
     "output_type": "error",
     "traceback": [
      "\u001b[0;31m---------------------------------------------------------------------------\u001b[0m",
      "\u001b[0;31mNameError\u001b[0m                                 Traceback (most recent call last)",
      "\u001b[0;32m/var/folders/pr/6zd47kr13sl6n6s6qxky0w9h0000gn/T/ipykernel_36075/57882951.py\u001b[0m in \u001b[0;36m<module>\u001b[0;34m\u001b[0m\n\u001b[0;32m----> 1\u001b[0;31m \u001b[0mmyfile\u001b[0m \u001b[0;34m=\u001b[0m \u001b[0mopen\u001b[0m\u001b[0;34m(\u001b[0m\u001b[0mpwd\u001b[0m \u001b[0;34m+\u001b[0m \u001b[0;34m'myfile.txt'\u001b[0m\u001b[0;34m)\u001b[0m\u001b[0;34m\u001b[0m\u001b[0;34m\u001b[0m\u001b[0m\n\u001b[0m",
      "\u001b[0;31mNameError\u001b[0m: name 'pwd' is not defined"
     ]
    }
   ],
   "source": [
    "myfile = open(pwd + 'myfile.txt')"
   ]
  },
  {
   "cell_type": "code",
   "execution_count": 35,
   "id": "bc95f2f9",
   "metadata": {},
   "outputs": [
    {
     "data": {
      "text/plain": [
       "'/Users/theoweller/Documents/dev/Python/course-code/python-course/00-Python Object and Data Structure Basics'"
      ]
     },
     "execution_count": 35,
     "metadata": {},
     "output_type": "execute_result"
    }
   ],
   "source": [
    "pwd"
   ]
  },
  {
   "cell_type": "code",
   "execution_count": null,
   "id": "90dc8406",
   "metadata": {},
   "outputs": [],
   "source": []
  }
 ],
 "metadata": {
  "kernelspec": {
   "display_name": "Python 3 (ipykernel)",
   "language": "python",
   "name": "python3"
  },
  "language_info": {
   "codemirror_mode": {
    "name": "ipython",
    "version": 3
   },
   "file_extension": ".py",
   "mimetype": "text/x-python",
   "name": "python",
   "nbconvert_exporter": "python",
   "pygments_lexer": "ipython3",
   "version": "3.9.7"
  }
 },
 "nbformat": 4,
 "nbformat_minor": 5
}
